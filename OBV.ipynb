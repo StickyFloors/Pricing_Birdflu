{
 "cells": [
  {
   "cell_type": "markdown",
   "id": "fe22432f-26b5-4c20-b1ea-b73feb75c394",
   "metadata": {},
   "source": [
    "Workbook to measure OBV (on-balance volume) for our six stocks"
   ]
  },
  {
   "cell_type": "code",
   "execution_count": 1,
   "id": "75d0746d-ac81-44bc-b963-2ce96cc4157e",
   "metadata": {},
   "outputs": [],
   "source": [
    "import requests\n",
    "import pandas as pd\n",
    "from io import StringIO\n",
    "import os\n",
    "from dotenv import load_dotenv\n",
    "# loading variables from .env file\n",
    "load_dotenv()\n",
    "apikey = os.getenv('apikey')"
   ]
  },
  {
   "cell_type": "code",
   "execution_count": 2,
   "id": "9cab73e5-7cee-41f9-95f3-982525ea8147",
   "metadata": {},
   "outputs": [],
   "source": [
    "\n",
    "\n",
    "response = requests.get(\"https://api.twelvedata.com/obv?apikey=\" + apikey + \"&interval=1day&start_date=2024-01-01 10:14:00&end_date=2025-07-01 10:14:00&format=CSV&symbol=ppc\")\n",
    "\n",
    "s = response.text\n",
    "s = s.strip()\n",
    "\n",
    "ppc = pd.read_csv(StringIO(s), sep=';')\n",
    "ppc.to_csv('ppc_obv.csv')"
   ]
  },
  {
   "cell_type": "code",
   "execution_count": 3,
   "id": "c05e706d-bd3b-429a-a232-e8adeff1d729",
   "metadata": {},
   "outputs": [],
   "source": [
    "\n",
    "response = requests.get(\"https://api.twelvedata.com/obv?apikey=\" + apikey + \"&interval=1day&start_date=2024-01-01 10:14:00&end_date=2025-07-01 10:14:00&format=CSV&symbol=tsn\")\n",
    "\n",
    "s = response.text\n",
    "s = s.strip()\n",
    "\n",
    "tsn = pd.read_csv(StringIO(s), sep=';')\n",
    "tsn.to_csv('tsn_obv.csv')"
   ]
  },
  {
   "cell_type": "code",
   "execution_count": 4,
   "id": "cf5e8194-fcd8-4b25-bb5b-71bedd7f07d7",
   "metadata": {},
   "outputs": [],
   "source": [
    "\n",
    "response = requests.get(\"https://api.twelvedata.com/obv?apikey=\" + apikey + \"&interval=1day&start_date=2024-01-01 10:14:00&end_date=2025-07-01 10:14:00&format=CSV&symbol=hrl\")\n",
    "\n",
    "s = response.text\n",
    "s = s.strip()\n",
    "\n",
    "hrl = pd.read_csv(StringIO(s), sep=';')\n",
    "hrl.to_csv('hrl_obv.csv')"
   ]
  },
  {
   "cell_type": "code",
   "execution_count": 5,
   "id": "8f945ae6-67e0-4b27-bfa7-ff46a3b286cb",
   "metadata": {},
   "outputs": [],
   "source": [
    "\n",
    "response = requests.get(\"https://api.twelvedata.com/obv?apikey=\" + apikey + \"&interval=1day&start_date=2024-01-01 10:14:00&end_date=2025-07-01 10:14:00&format=CSV&symbol=rhhby\")\n",
    "\n",
    "s = response.text\n",
    "s = s.strip()\n",
    "\n",
    "rhhby = pd.read_csv(StringIO(s), sep=';')\n",
    "rhhby.to_csv('rhhby_obv.csv')"
   ]
  },
  {
   "cell_type": "code",
   "execution_count": 6,
   "id": "6b683ad2-88cf-4464-b1ea-1fd7edf23154",
   "metadata": {},
   "outputs": [],
   "source": [
    "\n",
    "response = requests.get(\"https://api.twelvedata.com/obv?apikey=\" + apikey + \"&interval=1day&start_date=2024-01-01 10:14:00&end_date=2025-07-01 10:14:00&format=CSV&symbol=mrna\")\n",
    "\n",
    "s = response.text\n",
    "s = s.strip()\n",
    "\n",
    "mrna = pd.read_csv(StringIO(s), sep=';')\n",
    "mrna.to_csv('mrna_obv.csv')"
   ]
  },
  {
   "cell_type": "code",
   "execution_count": 7,
   "id": "ce0bebaa-74d2-4762-9c35-051a3c807b59",
   "metadata": {},
   "outputs": [],
   "source": [
    "\n",
    "response = requests.get(\"https://api.twelvedata.com/obv?apikey=\" + apikey + \"&interval=1day&start_date=2024-01-01 10:14:00&end_date=2025-07-01 10:14:00&format=CSV&symbol=pfe\")\n",
    "\n",
    "s = response.text\n",
    "s = s.strip()\n",
    "\n",
    "pfe = pd.read_csv(StringIO(s), sep=';')\n",
    "pfe.to_csv('pfe_obv.csv')"
   ]
  },
  {
   "cell_type": "code",
   "execution_count": 8,
   "id": "fbc06779-97b8-4c67-a2a1-ed5dedd91518",
   "metadata": {},
   "outputs": [
    {
     "data": {
      "text/html": [
       "<div>\n",
       "<style scoped>\n",
       "    .dataframe tbody tr th:only-of-type {\n",
       "        vertical-align: middle;\n",
       "    }\n",
       "\n",
       "    .dataframe tbody tr th {\n",
       "        vertical-align: top;\n",
       "    }\n",
       "\n",
       "    .dataframe thead th {\n",
       "        text-align: right;\n",
       "    }\n",
       "</style>\n",
       "<table border=\"1\" class=\"dataframe\">\n",
       "  <thead>\n",
       "    <tr style=\"text-align: right;\">\n",
       "      <th></th>\n",
       "      <th>datetime</th>\n",
       "      <th>obv</th>\n",
       "    </tr>\n",
       "  </thead>\n",
       "  <tbody>\n",
       "    <tr>\n",
       "      <th>0</th>\n",
       "      <td>2025-07-01</td>\n",
       "      <td>26761900</td>\n",
       "    </tr>\n",
       "    <tr>\n",
       "      <th>1</th>\n",
       "      <td>2025-06-30</td>\n",
       "      <td>25218100</td>\n",
       "    </tr>\n",
       "    <tr>\n",
       "      <th>2</th>\n",
       "      <td>2025-06-27</td>\n",
       "      <td>23812500</td>\n",
       "    </tr>\n",
       "    <tr>\n",
       "      <th>3</th>\n",
       "      <td>2025-06-26</td>\n",
       "      <td>21739200</td>\n",
       "    </tr>\n",
       "    <tr>\n",
       "      <th>4</th>\n",
       "      <td>2025-06-25</td>\n",
       "      <td>22916600</td>\n",
       "    </tr>\n",
       "  </tbody>\n",
       "</table>\n",
       "</div>"
      ],
      "text/plain": [
       "     datetime       obv\n",
       "0  2025-07-01  26761900\n",
       "1  2025-06-30  25218100\n",
       "2  2025-06-27  23812500\n",
       "3  2025-06-26  21739200\n",
       "4  2025-06-25  22916600"
      ]
     },
     "execution_count": 8,
     "metadata": {},
     "output_type": "execute_result"
    }
   ],
   "source": [
    "ppc.head()"
   ]
  },
  {
   "cell_type": "code",
   "execution_count": 9,
   "id": "7a2a7b00-2fc7-4721-93b6-30c9c81967fc",
   "metadata": {},
   "outputs": [],
   "source": [
    "response = requests.get(\"https://api.twelvedata.com/obv?apikey=\" + apikey + \"&interval=1day&start_date=2024-01-01 10:14:00&end_date=2025-07-01 10:14:00&format=CSV&symbol=mrna\")\n",
    "\n",
    "s = response.text\n",
    "s = s.strip()\n",
    "\n",
    "mrna = pd.read_csv(StringIO(s), sep=';')\n",
    "mrna.to_csv('mrna_obv.csv')"
   ]
  },
  {
   "cell_type": "code",
   "execution_count": 10,
   "id": "78f92bbc-29ea-4347-8dc8-c858ba9bf34d",
   "metadata": {},
   "outputs": [
    {
     "data": {
      "text/html": [
       "<div>\n",
       "<style scoped>\n",
       "    .dataframe tbody tr th:only-of-type {\n",
       "        vertical-align: middle;\n",
       "    }\n",
       "\n",
       "    .dataframe tbody tr th {\n",
       "        vertical-align: top;\n",
       "    }\n",
       "\n",
       "    .dataframe thead th {\n",
       "        text-align: right;\n",
       "    }\n",
       "</style>\n",
       "<table border=\"1\" class=\"dataframe\">\n",
       "  <thead>\n",
       "    <tr style=\"text-align: right;\">\n",
       "      <th></th>\n",
       "      <th>datetime</th>\n",
       "      <th>obv</th>\n",
       "    </tr>\n",
       "  </thead>\n",
       "  <tbody>\n",
       "    <tr>\n",
       "      <th>0</th>\n",
       "      <td>2025-07-01</td>\n",
       "      <td>-190472700</td>\n",
       "    </tr>\n",
       "    <tr>\n",
       "      <th>1</th>\n",
       "      <td>2025-06-30</td>\n",
       "      <td>-205026600</td>\n",
       "    </tr>\n",
       "    <tr>\n",
       "      <th>2</th>\n",
       "      <td>2025-06-27</td>\n",
       "      <td>-215202000</td>\n",
       "    </tr>\n",
       "    <tr>\n",
       "      <th>3</th>\n",
       "      <td>2025-06-26</td>\n",
       "      <td>-203654400</td>\n",
       "    </tr>\n",
       "    <tr>\n",
       "      <th>4</th>\n",
       "      <td>2025-06-25</td>\n",
       "      <td>-212943500</td>\n",
       "    </tr>\n",
       "  </tbody>\n",
       "</table>\n",
       "</div>"
      ],
      "text/plain": [
       "     datetime        obv\n",
       "0  2025-07-01 -190472700\n",
       "1  2025-06-30 -205026600\n",
       "2  2025-06-27 -215202000\n",
       "3  2025-06-26 -203654400\n",
       "4  2025-06-25 -212943500"
      ]
     },
     "execution_count": 10,
     "metadata": {},
     "output_type": "execute_result"
    }
   ],
   "source": [
    "mrna.head()\n"
   ]
  },
  {
   "cell_type": "code",
   "execution_count": 11,
   "id": "35161469-8d9a-48ed-a84f-970eeecd868f",
   "metadata": {},
   "outputs": [],
   "source": [
    "ppc['PilgrimPride']=ppc['obv']\n",
    "ppc_holder=ppc[['datetime','PilgrimPride']]\n",
    "mrna['Moderna']=mrna['obv']\n"
   ]
  },
  {
   "cell_type": "code",
   "execution_count": 12,
   "id": "d6250e1c-7124-46b1-bdef-b6f8c900314f",
   "metadata": {},
   "outputs": [],
   "source": [
    "obv_ppc_mrna=pd.concat([ppc_holder,mrna['Moderna']], axis=1, join='inner')"
   ]
  },
  {
   "cell_type": "code",
   "execution_count": 13,
   "id": "526de1fb-346c-4b2d-a0d1-f90a1ed96f42",
   "metadata": {},
   "outputs": [
    {
     "data": {
      "text/html": [
       "<div>\n",
       "<style scoped>\n",
       "    .dataframe tbody tr th:only-of-type {\n",
       "        vertical-align: middle;\n",
       "    }\n",
       "\n",
       "    .dataframe tbody tr th {\n",
       "        vertical-align: top;\n",
       "    }\n",
       "\n",
       "    .dataframe thead th {\n",
       "        text-align: right;\n",
       "    }\n",
       "</style>\n",
       "<table border=\"1\" class=\"dataframe\">\n",
       "  <thead>\n",
       "    <tr style=\"text-align: right;\">\n",
       "      <th></th>\n",
       "      <th>datetime</th>\n",
       "      <th>PilgrimPride</th>\n",
       "      <th>Moderna</th>\n",
       "    </tr>\n",
       "  </thead>\n",
       "  <tbody>\n",
       "    <tr>\n",
       "      <th>0</th>\n",
       "      <td>2025-07-01</td>\n",
       "      <td>26761900</td>\n",
       "      <td>-190472700</td>\n",
       "    </tr>\n",
       "    <tr>\n",
       "      <th>1</th>\n",
       "      <td>2025-06-30</td>\n",
       "      <td>25218100</td>\n",
       "      <td>-205026600</td>\n",
       "    </tr>\n",
       "    <tr>\n",
       "      <th>2</th>\n",
       "      <td>2025-06-27</td>\n",
       "      <td>23812500</td>\n",
       "      <td>-215202000</td>\n",
       "    </tr>\n",
       "    <tr>\n",
       "      <th>3</th>\n",
       "      <td>2025-06-26</td>\n",
       "      <td>21739200</td>\n",
       "      <td>-203654400</td>\n",
       "    </tr>\n",
       "    <tr>\n",
       "      <th>4</th>\n",
       "      <td>2025-06-25</td>\n",
       "      <td>22916600</td>\n",
       "      <td>-212943500</td>\n",
       "    </tr>\n",
       "  </tbody>\n",
       "</table>\n",
       "</div>"
      ],
      "text/plain": [
       "     datetime  PilgrimPride    Moderna\n",
       "0  2025-07-01      26761900 -190472700\n",
       "1  2025-06-30      25218100 -205026600\n",
       "2  2025-06-27      23812500 -215202000\n",
       "3  2025-06-26      21739200 -203654400\n",
       "4  2025-06-25      22916600 -212943500"
      ]
     },
     "execution_count": 13,
     "metadata": {},
     "output_type": "execute_result"
    }
   ],
   "source": [
    "obv_ppc_mrna.head()"
   ]
  },
  {
   "cell_type": "code",
   "execution_count": 14,
   "id": "7f3cb5ef-528d-499e-9f4a-9c06d178651e",
   "metadata": {},
   "outputs": [],
   "source": [
    "obv_ppc_mrna.to_csv('obv_ppc_mrna.csv')"
   ]
  },
  {
   "cell_type": "code",
   "execution_count": null,
   "id": "20db62b6-547b-4219-a032-456962983cb4",
   "metadata": {},
   "outputs": [],
   "source": []
  }
 ],
 "metadata": {
  "kernelspec": {
   "display_name": "Python 3 (ipykernel)",
   "language": "python",
   "name": "python3"
  },
  "language_info": {
   "codemirror_mode": {
    "name": "ipython",
    "version": 3
   },
   "file_extension": ".py",
   "mimetype": "text/x-python",
   "name": "python",
   "nbconvert_exporter": "python",
   "pygments_lexer": "ipython3",
   "version": "3.11.8"
  }
 },
 "nbformat": 4,
 "nbformat_minor": 5
}
