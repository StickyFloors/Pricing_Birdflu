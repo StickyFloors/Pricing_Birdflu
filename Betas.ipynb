{
 "cells": [
  {
   "cell_type": "markdown",
   "id": "f810ec1e-556d-4d03-a951-9a52af333ded",
   "metadata": {},
   "source": [
    "Workbook for calculating Betas and baskets of betas. \n",
    "\n",
    "Poultry: PPC, TSN, HRL\n",
    "Pharma: RHHBY, MRNA, PFE"
   ]
  },
  {
   "cell_type": "code",
   "execution_count": 1,
   "id": "aeddb167-d4b6-413f-9d1d-9bf8e9226ae3",
   "metadata": {},
   "outputs": [],
   "source": [
    "import requests\n",
    "import pandas as pd\n",
    "from io import StringIO\n",
    "import os\n",
    "from dotenv import load_dotenv\n",
    "# loading variables from .env file\n",
    "load_dotenv()\n",
    "apikey = os.getenv('apikey')"
   ]
  },
  {
   "cell_type": "code",
   "execution_count": 2,
   "id": "3181bcd1-644d-4af9-b85a-061ab61afabe",
   "metadata": {},
   "outputs": [],
   "source": [
    "response = requests.get(\"https://api.twelvedata.com/beta?apikey=\" + apikey + \"&interval=1day&symbol=PPC&outputsize=180&format=CSV\")\n"
   ]
  },
  {
   "cell_type": "code",
   "execution_count": 3,
   "id": "c053a770-0afe-4663-af4a-0d60462c2a81",
   "metadata": {},
   "outputs": [],
   "source": [
    "s = response.text\n",
    "s = s.strip()\n",
    "\n",
    "ppc = pd.read_csv(StringIO(s), sep=';')\n",
    "ppc.to_csv('ppc_beta_long.csv')"
   ]
  },
  {
   "cell_type": "code",
   "execution_count": 4,
   "id": "1e0b708a-c06f-4f62-aa1e-561ed82170fa",
   "metadata": {},
   "outputs": [],
   "source": [
    "ppc['PilgrimPride']=ppc['beta']"
   ]
  },
  {
   "cell_type": "code",
   "execution_count": 5,
   "id": "d0a47ec6-faf3-4204-b816-e108e6ebbfe3",
   "metadata": {},
   "outputs": [],
   "source": [
    "ppc=ppc.drop('beta',axis=1)"
   ]
  },
  {
   "cell_type": "code",
   "execution_count": 6,
   "id": "d6abf3e0-7d7f-4548-a99c-e9254008e1a3",
   "metadata": {},
   "outputs": [
    {
     "data": {
      "text/html": [
       "<div>\n",
       "<style scoped>\n",
       "    .dataframe tbody tr th:only-of-type {\n",
       "        vertical-align: middle;\n",
       "    }\n",
       "\n",
       "    .dataframe tbody tr th {\n",
       "        vertical-align: top;\n",
       "    }\n",
       "\n",
       "    .dataframe thead th {\n",
       "        text-align: right;\n",
       "    }\n",
       "</style>\n",
       "<table border=\"1\" class=\"dataframe\">\n",
       "  <thead>\n",
       "    <tr style=\"text-align: right;\">\n",
       "      <th></th>\n",
       "      <th>datetime</th>\n",
       "      <th>PilgrimPride</th>\n",
       "    </tr>\n",
       "  </thead>\n",
       "  <tbody>\n",
       "    <tr>\n",
       "      <th>0</th>\n",
       "      <td>2025-07-15</td>\n",
       "      <td>0.019064</td>\n",
       "    </tr>\n",
       "    <tr>\n",
       "      <th>1</th>\n",
       "      <td>2025-07-14</td>\n",
       "      <td>-0.046123</td>\n",
       "    </tr>\n",
       "    <tr>\n",
       "      <th>2</th>\n",
       "      <td>2025-07-11</td>\n",
       "      <td>-0.062145</td>\n",
       "    </tr>\n",
       "    <tr>\n",
       "      <th>3</th>\n",
       "      <td>2025-07-10</td>\n",
       "      <td>-0.048624</td>\n",
       "    </tr>\n",
       "    <tr>\n",
       "      <th>4</th>\n",
       "      <td>2025-07-09</td>\n",
       "      <td>0.010739</td>\n",
       "    </tr>\n",
       "  </tbody>\n",
       "</table>\n",
       "</div>"
      ],
      "text/plain": [
       "     datetime  PilgrimPride\n",
       "0  2025-07-15      0.019064\n",
       "1  2025-07-14     -0.046123\n",
       "2  2025-07-11     -0.062145\n",
       "3  2025-07-10     -0.048624\n",
       "4  2025-07-09      0.010739"
      ]
     },
     "execution_count": 6,
     "metadata": {},
     "output_type": "execute_result"
    }
   ],
   "source": [
    "ppc.head()"
   ]
  },
  {
   "cell_type": "code",
   "execution_count": 7,
   "id": "d8550bf2-1ff5-4fe5-a59f-1943f787c73e",
   "metadata": {},
   "outputs": [],
   "source": [
    "response = requests.get(\"https://api.twelvedata.com/beta?apikey=\" + apikey + \"&interval=1day&symbol=TSN&outputsize=180&format=CSV\")\n"
   ]
  },
  {
   "cell_type": "code",
   "execution_count": 8,
   "id": "57e9a679-aef5-46c6-97e8-870b5bee4e65",
   "metadata": {},
   "outputs": [],
   "source": [
    "s = response.text\n",
    "s = s.strip()\n",
    "\n",
    "tsn = pd.read_csv(StringIO(s), sep=';')\n",
    "tsn.to_csv('tsn_beta_long.csv')"
   ]
  },
  {
   "cell_type": "code",
   "execution_count": 9,
   "id": "80b09e74-1f33-496b-bd8c-c691b5bb0953",
   "metadata": {},
   "outputs": [],
   "source": [
    "tsn['Tysons']=tsn['beta']"
   ]
  },
  {
   "cell_type": "code",
   "execution_count": 10,
   "id": "6fff3a88-54f6-46f4-b32d-d32dd4d248d4",
   "metadata": {},
   "outputs": [
    {
     "data": {
      "text/html": [
       "<div>\n",
       "<style scoped>\n",
       "    .dataframe tbody tr th:only-of-type {\n",
       "        vertical-align: middle;\n",
       "    }\n",
       "\n",
       "    .dataframe tbody tr th {\n",
       "        vertical-align: top;\n",
       "    }\n",
       "\n",
       "    .dataframe thead th {\n",
       "        text-align: right;\n",
       "    }\n",
       "</style>\n",
       "<table border=\"1\" class=\"dataframe\">\n",
       "  <thead>\n",
       "    <tr style=\"text-align: right;\">\n",
       "      <th></th>\n",
       "      <th>datetime</th>\n",
       "      <th>beta</th>\n",
       "      <th>Tysons</th>\n",
       "    </tr>\n",
       "  </thead>\n",
       "  <tbody>\n",
       "    <tr>\n",
       "      <th>0</th>\n",
       "      <td>2025-07-15</td>\n",
       "      <td>0.105762</td>\n",
       "      <td>0.105762</td>\n",
       "    </tr>\n",
       "    <tr>\n",
       "      <th>1</th>\n",
       "      <td>2025-07-14</td>\n",
       "      <td>0.351824</td>\n",
       "      <td>0.351824</td>\n",
       "    </tr>\n",
       "    <tr>\n",
       "      <th>2</th>\n",
       "      <td>2025-07-11</td>\n",
       "      <td>0.378890</td>\n",
       "      <td>0.378890</td>\n",
       "    </tr>\n",
       "    <tr>\n",
       "      <th>3</th>\n",
       "      <td>2025-07-10</td>\n",
       "      <td>0.388054</td>\n",
       "      <td>0.388054</td>\n",
       "    </tr>\n",
       "    <tr>\n",
       "      <th>4</th>\n",
       "      <td>2025-07-09</td>\n",
       "      <td>0.347602</td>\n",
       "      <td>0.347602</td>\n",
       "    </tr>\n",
       "  </tbody>\n",
       "</table>\n",
       "</div>"
      ],
      "text/plain": [
       "     datetime      beta    Tysons\n",
       "0  2025-07-15  0.105762  0.105762\n",
       "1  2025-07-14  0.351824  0.351824\n",
       "2  2025-07-11  0.378890  0.378890\n",
       "3  2025-07-10  0.388054  0.388054\n",
       "4  2025-07-09  0.347602  0.347602"
      ]
     },
     "execution_count": 10,
     "metadata": {},
     "output_type": "execute_result"
    }
   ],
   "source": [
    "tsn.head()"
   ]
  },
  {
   "cell_type": "code",
   "execution_count": 11,
   "id": "f717c21e-db4f-477e-8041-9675551a3332",
   "metadata": {},
   "outputs": [],
   "source": [
    "response = requests.get(\"https://api.twelvedata.com/beta?apikey=\" + apikey + \"&interval=1day&symbol=HRL&outputsize=180&format=CSV\")\n"
   ]
  },
  {
   "cell_type": "code",
   "execution_count": 12,
   "id": "65a8aad4-fbf0-4b63-ac5f-41259c599912",
   "metadata": {},
   "outputs": [],
   "source": [
    "s = response.text\n",
    "s = s.strip()\n",
    "\n",
    "hrl = pd.read_csv(StringIO(s), sep=';')\n",
    "hrl.to_csv('hrl_beta_long.csv')"
   ]
  },
  {
   "cell_type": "code",
   "execution_count": 13,
   "id": "4ae6fe10-987e-411a-919c-3155ada6cc13",
   "metadata": {},
   "outputs": [],
   "source": [
    "hrl['Hormel']=hrl['beta']"
   ]
  },
  {
   "cell_type": "code",
   "execution_count": 14,
   "id": "4e05f629-2113-4b0c-bbaf-1f55757766a9",
   "metadata": {},
   "outputs": [
    {
     "data": {
      "text/html": [
       "<div>\n",
       "<style scoped>\n",
       "    .dataframe tbody tr th:only-of-type {\n",
       "        vertical-align: middle;\n",
       "    }\n",
       "\n",
       "    .dataframe tbody tr th {\n",
       "        vertical-align: top;\n",
       "    }\n",
       "\n",
       "    .dataframe thead th {\n",
       "        text-align: right;\n",
       "    }\n",
       "</style>\n",
       "<table border=\"1\" class=\"dataframe\">\n",
       "  <thead>\n",
       "    <tr style=\"text-align: right;\">\n",
       "      <th></th>\n",
       "      <th>datetime</th>\n",
       "      <th>beta</th>\n",
       "      <th>Hormel</th>\n",
       "    </tr>\n",
       "  </thead>\n",
       "  <tbody>\n",
       "    <tr>\n",
       "      <th>0</th>\n",
       "      <td>2025-07-15</td>\n",
       "      <td>0.229916</td>\n",
       "      <td>0.229916</td>\n",
       "    </tr>\n",
       "    <tr>\n",
       "      <th>1</th>\n",
       "      <td>2025-07-14</td>\n",
       "      <td>0.162845</td>\n",
       "      <td>0.162845</td>\n",
       "    </tr>\n",
       "    <tr>\n",
       "      <th>2</th>\n",
       "      <td>2025-07-11</td>\n",
       "      <td>-0.464691</td>\n",
       "      <td>-0.464691</td>\n",
       "    </tr>\n",
       "    <tr>\n",
       "      <th>3</th>\n",
       "      <td>2025-07-10</td>\n",
       "      <td>-0.161174</td>\n",
       "      <td>-0.161174</td>\n",
       "    </tr>\n",
       "    <tr>\n",
       "      <th>4</th>\n",
       "      <td>2025-07-09</td>\n",
       "      <td>-0.197910</td>\n",
       "      <td>-0.197910</td>\n",
       "    </tr>\n",
       "  </tbody>\n",
       "</table>\n",
       "</div>"
      ],
      "text/plain": [
       "     datetime      beta    Hormel\n",
       "0  2025-07-15  0.229916  0.229916\n",
       "1  2025-07-14  0.162845  0.162845\n",
       "2  2025-07-11 -0.464691 -0.464691\n",
       "3  2025-07-10 -0.161174 -0.161174\n",
       "4  2025-07-09 -0.197910 -0.197910"
      ]
     },
     "execution_count": 14,
     "metadata": {},
     "output_type": "execute_result"
    }
   ],
   "source": [
    "hrl.head()"
   ]
  },
  {
   "cell_type": "code",
   "execution_count": 15,
   "id": "6180aa18-3c77-4f66-9153-177ce04683e1",
   "metadata": {},
   "outputs": [],
   "source": [
    "\n",
    "food_beta = pd.concat([ppc,hrl['Hormel'],tsn['Tysons']], axis=1, join='inner')"
   ]
  },
  {
   "cell_type": "code",
   "execution_count": 16,
   "id": "e3266af7-c2f9-400c-8f01-0c9ad11f734c",
   "metadata": {},
   "outputs": [
    {
     "data": {
      "text/html": [
       "<div>\n",
       "<style scoped>\n",
       "    .dataframe tbody tr th:only-of-type {\n",
       "        vertical-align: middle;\n",
       "    }\n",
       "\n",
       "    .dataframe tbody tr th {\n",
       "        vertical-align: top;\n",
       "    }\n",
       "\n",
       "    .dataframe thead th {\n",
       "        text-align: right;\n",
       "    }\n",
       "</style>\n",
       "<table border=\"1\" class=\"dataframe\">\n",
       "  <thead>\n",
       "    <tr style=\"text-align: right;\">\n",
       "      <th></th>\n",
       "      <th>datetime</th>\n",
       "      <th>PilgrimPride</th>\n",
       "      <th>Hormel</th>\n",
       "      <th>Tysons</th>\n",
       "    </tr>\n",
       "  </thead>\n",
       "  <tbody>\n",
       "    <tr>\n",
       "      <th>0</th>\n",
       "      <td>2025-07-15</td>\n",
       "      <td>0.019064</td>\n",
       "      <td>0.229916</td>\n",
       "      <td>0.105762</td>\n",
       "    </tr>\n",
       "    <tr>\n",
       "      <th>1</th>\n",
       "      <td>2025-07-14</td>\n",
       "      <td>-0.046123</td>\n",
       "      <td>0.162845</td>\n",
       "      <td>0.351824</td>\n",
       "    </tr>\n",
       "    <tr>\n",
       "      <th>2</th>\n",
       "      <td>2025-07-11</td>\n",
       "      <td>-0.062145</td>\n",
       "      <td>-0.464691</td>\n",
       "      <td>0.378890</td>\n",
       "    </tr>\n",
       "    <tr>\n",
       "      <th>3</th>\n",
       "      <td>2025-07-10</td>\n",
       "      <td>-0.048624</td>\n",
       "      <td>-0.161174</td>\n",
       "      <td>0.388054</td>\n",
       "    </tr>\n",
       "    <tr>\n",
       "      <th>4</th>\n",
       "      <td>2025-07-09</td>\n",
       "      <td>0.010739</td>\n",
       "      <td>-0.197910</td>\n",
       "      <td>0.347602</td>\n",
       "    </tr>\n",
       "  </tbody>\n",
       "</table>\n",
       "</div>"
      ],
      "text/plain": [
       "     datetime  PilgrimPride    Hormel    Tysons\n",
       "0  2025-07-15      0.019064  0.229916  0.105762\n",
       "1  2025-07-14     -0.046123  0.162845  0.351824\n",
       "2  2025-07-11     -0.062145 -0.464691  0.378890\n",
       "3  2025-07-10     -0.048624 -0.161174  0.388054\n",
       "4  2025-07-09      0.010739 -0.197910  0.347602"
      ]
     },
     "execution_count": 16,
     "metadata": {},
     "output_type": "execute_result"
    }
   ],
   "source": [
    "food_beta.head()"
   ]
  },
  {
   "cell_type": "code",
   "execution_count": 17,
   "id": "f33e772c-d194-447f-b86c-4921562cb527",
   "metadata": {},
   "outputs": [],
   "source": [
    "def average_beta(row):\n",
    "    return ((row['PilgrimPride']+row['Hormel']+row['Tysons'])/3)\n",
    "food_beta['average_beta']=food_beta.apply(average_beta,axis=1)\n",
    "\n"
   ]
  },
  {
   "cell_type": "code",
   "execution_count": 18,
   "id": "9ae3822a-2dab-4761-8fcc-762f6265dfaa",
   "metadata": {},
   "outputs": [
    {
     "data": {
      "text/html": [
       "<div>\n",
       "<style scoped>\n",
       "    .dataframe tbody tr th:only-of-type {\n",
       "        vertical-align: middle;\n",
       "    }\n",
       "\n",
       "    .dataframe tbody tr th {\n",
       "        vertical-align: top;\n",
       "    }\n",
       "\n",
       "    .dataframe thead th {\n",
       "        text-align: right;\n",
       "    }\n",
       "</style>\n",
       "<table border=\"1\" class=\"dataframe\">\n",
       "  <thead>\n",
       "    <tr style=\"text-align: right;\">\n",
       "      <th></th>\n",
       "      <th>datetime</th>\n",
       "      <th>PilgrimPride</th>\n",
       "      <th>Hormel</th>\n",
       "      <th>Tysons</th>\n",
       "      <th>average_beta</th>\n",
       "    </tr>\n",
       "  </thead>\n",
       "  <tbody>\n",
       "    <tr>\n",
       "      <th>0</th>\n",
       "      <td>2025-07-15</td>\n",
       "      <td>0.019064</td>\n",
       "      <td>0.229916</td>\n",
       "      <td>0.105762</td>\n",
       "      <td>0.118247</td>\n",
       "    </tr>\n",
       "    <tr>\n",
       "      <th>1</th>\n",
       "      <td>2025-07-14</td>\n",
       "      <td>-0.046123</td>\n",
       "      <td>0.162845</td>\n",
       "      <td>0.351824</td>\n",
       "      <td>0.156182</td>\n",
       "    </tr>\n",
       "    <tr>\n",
       "      <th>2</th>\n",
       "      <td>2025-07-11</td>\n",
       "      <td>-0.062145</td>\n",
       "      <td>-0.464691</td>\n",
       "      <td>0.378890</td>\n",
       "      <td>-0.049315</td>\n",
       "    </tr>\n",
       "    <tr>\n",
       "      <th>3</th>\n",
       "      <td>2025-07-10</td>\n",
       "      <td>-0.048624</td>\n",
       "      <td>-0.161174</td>\n",
       "      <td>0.388054</td>\n",
       "      <td>0.059419</td>\n",
       "    </tr>\n",
       "    <tr>\n",
       "      <th>4</th>\n",
       "      <td>2025-07-09</td>\n",
       "      <td>0.010739</td>\n",
       "      <td>-0.197910</td>\n",
       "      <td>0.347602</td>\n",
       "      <td>0.053477</td>\n",
       "    </tr>\n",
       "  </tbody>\n",
       "</table>\n",
       "</div>"
      ],
      "text/plain": [
       "     datetime  PilgrimPride    Hormel    Tysons  average_beta\n",
       "0  2025-07-15      0.019064  0.229916  0.105762      0.118247\n",
       "1  2025-07-14     -0.046123  0.162845  0.351824      0.156182\n",
       "2  2025-07-11     -0.062145 -0.464691  0.378890     -0.049315\n",
       "3  2025-07-10     -0.048624 -0.161174  0.388054      0.059419\n",
       "4  2025-07-09      0.010739 -0.197910  0.347602      0.053477"
      ]
     },
     "execution_count": 18,
     "metadata": {},
     "output_type": "execute_result"
    }
   ],
   "source": [
    "food_beta.head()"
   ]
  },
  {
   "cell_type": "code",
   "execution_count": 19,
   "id": "548b8aa7-2d38-494d-8fa4-02ae99fdc4c4",
   "metadata": {},
   "outputs": [],
   "source": [
    "food_beta.to_csv('food_beta.csv')"
   ]
  },
  {
   "cell_type": "code",
   "execution_count": 20,
   "id": "cba96c1e-66c0-4483-9c6e-f52df1fe6bcb",
   "metadata": {},
   "outputs": [],
   "source": [
    "response = requests.get(\"https://api.twelvedata.com/beta?apikey=\" + apikey + \"&interval=1day&symbol=rhhby&outputsize=180&format=CSV\")\n"
   ]
  },
  {
   "cell_type": "code",
   "execution_count": 21,
   "id": "0e6799e9-fb91-455c-8bf3-f14d2917172f",
   "metadata": {},
   "outputs": [],
   "source": [
    "s = response.text\n",
    "s = s.strip()\n",
    "\n",
    "rhhby = pd.read_csv(StringIO(s), sep=';')\n",
    "rhhby.to_csv('rhhby_beta_long.csv')"
   ]
  },
  {
   "cell_type": "code",
   "execution_count": 22,
   "id": "7f253ac8-fb29-4175-8757-401edfbc67ea",
   "metadata": {},
   "outputs": [
    {
     "ename": "SyntaxError",
     "evalue": "invalid syntax. Perhaps you forgot a comma? (52090882.py, line 1)",
     "output_type": "error",
     "traceback": [
      "  \u001b[36mCell\u001b[39m\u001b[36m \u001b[39m\u001b[32mIn[22]\u001b[39m\u001b[32m, line 1\u001b[39m\n\u001b[31m    \u001b[39m\u001b[31mresponse = requests.get(\"https://api.twelvedata.com/beta?apikey=\" + apikey \"&interval=1day&symbol=MRNA&outputsize=180&format=CSV\")\u001b[39m\n                            ^\n\u001b[31mSyntaxError\u001b[39m\u001b[31m:\u001b[39m invalid syntax. Perhaps you forgot a comma?\n"
     ]
    }
   ],
   "source": [
    "response = requests.get(\"https://api.twelvedata.com/beta?apikey=\" + apikey \"&interval=1day&symbol=MRNA&outputsize=180&format=CSV\")\n"
   ]
  },
  {
   "cell_type": "code",
   "execution_count": null,
   "id": "a1e2e4b5-8438-4ee3-a48e-e0f5b340e73b",
   "metadata": {},
   "outputs": [],
   "source": [
    "s = response.text\n",
    "s = s.strip()\n",
    "\n",
    "mrna = pd.read_csv(StringIO(s), sep=';')\n",
    "mrna.to_csv('mrna_beta_long.csv')"
   ]
  },
  {
   "cell_type": "code",
   "execution_count": null,
   "id": "c35c32b6-0d54-48a3-a371-fff7343f9ef9",
   "metadata": {},
   "outputs": [],
   "source": [
    "response = requests.get(\"https://api.twelvedata.com/beta?apikey=\" + apikey + \"&interval=1day&symbol=pfe&outputsize=180&format=CSV\")\n"
   ]
  },
  {
   "cell_type": "code",
   "execution_count": null,
   "id": "e8cf3a83-fc0a-4a0a-96fb-612dce6d3060",
   "metadata": {},
   "outputs": [],
   "source": [
    "s = response.text\n",
    "s = s.strip()\n",
    "\n",
    "pfe = pd.read_csv(StringIO(s), sep=';')\n",
    "pfe.to_csv('pfe_beta_long.csv')"
   ]
  },
  {
   "cell_type": "code",
   "execution_count": null,
   "id": "541c7416-bb7a-47af-89e6-212d43fd90be",
   "metadata": {},
   "outputs": [],
   "source": [
    "rhhby['Roche']=rhhby['beta']\n",
    "mrna['Moderna']=mrna['beta']\n",
    "pfe['Pfizer']=pfe['beta']"
   ]
  },
  {
   "cell_type": "code",
   "execution_count": null,
   "id": "414c0c4b-3a5a-46ce-bcb7-6ac3c7c07c4f",
   "metadata": {},
   "outputs": [],
   "source": [
    "rhhby=rhhby.drop('beta',axis=1)"
   ]
  },
  {
   "cell_type": "code",
   "execution_count": null,
   "id": "622e425b-fabc-433d-84a9-ac0bff584f1e",
   "metadata": {},
   "outputs": [],
   "source": [
    "pharma_beta = pd.concat([rhhby,mrna['Moderna'],pfe['Pfizer']], axis=1, join='inner')"
   ]
  },
  {
   "cell_type": "code",
   "execution_count": null,
   "id": "f37b9e0b-04b4-47ed-9b0a-0931209a8a27",
   "metadata": {},
   "outputs": [],
   "source": [
    "pharma_beta.head()"
   ]
  },
  {
   "cell_type": "code",
   "execution_count": null,
   "id": "c62777c4-c109-4a9b-a167-d7dbaccc7069",
   "metadata": {},
   "outputs": [],
   "source": [
    "def average_beta_again(row):\n",
    "    return ((row['Roche']+row['Moderna']+row['Pfizer'])/3)\n",
    "pharma_beta['average_beta']=pharma_beta.apply(average_beta_again,axis=1)"
   ]
  },
  {
   "cell_type": "code",
   "execution_count": null,
   "id": "fdce0db7-9af2-4fc8-bbad-6880c2d6f5f5",
   "metadata": {},
   "outputs": [],
   "source": [
    "pharma_beta.head()"
   ]
  },
  {
   "cell_type": "code",
   "execution_count": null,
   "id": "57b0b7cc-bd7e-4bc2-8c11-e6f4a2846274",
   "metadata": {},
   "outputs": [],
   "source": [
    "pharma_beta['pharma_beta']=pharma_beta['average_beta']"
   ]
  },
  {
   "cell_type": "code",
   "execution_count": null,
   "id": "6bb7b108-65c8-4135-a266-e271a87ad734",
   "metadata": {},
   "outputs": [],
   "source": [
    "food_beta['food_beta']=food_beta['average_beta']"
   ]
  },
  {
   "cell_type": "code",
   "execution_count": null,
   "id": "ab5b803d-4d11-4ae0-a7c3-36698f172d64",
   "metadata": {},
   "outputs": [],
   "source": [
    "food_holder=food_beta[['datetime','food_beta']]"
   ]
  },
  {
   "cell_type": "code",
   "execution_count": null,
   "id": "06d82832-11cd-4d1b-b649-4c6b5c7e65e1",
   "metadata": {},
   "outputs": [],
   "source": [
    "beta_contrast = pd.concat([food_holder,pharma_beta['pharma_beta']], axis=1, join='inner')"
   ]
  },
  {
   "cell_type": "code",
   "execution_count": null,
   "id": "66e1bea2-a497-4423-8572-72ead81828b4",
   "metadata": {},
   "outputs": [],
   "source": [
    "beta_contrast.to_csv('beta_contrast.csv')\n",
    "food_beta.to_csv('food_beta.csv')\n",
    "pharma_beta.to_csv('pharma_beta.csv')"
   ]
  },
  {
   "cell_type": "code",
   "execution_count": null,
   "id": "ca07ae42-4695-4b6c-bbdf-6c8ce01933a6",
   "metadata": {},
   "outputs": [],
   "source": []
  }
 ],
 "metadata": {
  "kernelspec": {
   "display_name": "Python 3 (ipykernel)",
   "language": "python",
   "name": "python3"
  },
  "language_info": {
   "codemirror_mode": {
    "name": "ipython",
    "version": 3
   },
   "file_extension": ".py",
   "mimetype": "text/x-python",
   "name": "python",
   "nbconvert_exporter": "python",
   "pygments_lexer": "ipython3",
   "version": "3.11.8"
  }
 },
 "nbformat": 4,
 "nbformat_minor": 5
}
