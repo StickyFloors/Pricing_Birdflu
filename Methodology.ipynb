{
 "cells": [
  {
   "cell_type": "markdown",
   "id": "e1fee7cb-abb0-4367-84fd-5e132cd9018a",
   "metadata": {},
   "source": [
    "# Bird Flu Methodology\n",
    "### Dan Johnson"
   ]
  },
  {
   "cell_type": "markdown",
   "id": "9cebd713-2c2f-4694-88bd-a2d0bd58a0a9",
   "metadata": {},
   "source": [
    "The premise was simple: taking the efficient market hypothesis at face value, would it then be possible to track the spread of H5N1 bird flu through the prices of certain stocks that stood to gain or lose in a zoonotic pandemic. \n",
    "\n",
    "It was important to approach the work from a research-first perspective. I got very interested in [Steve Nison's guide to Japanese Candles](https://archive.org/details/JapaneseCandlestickChartingTechniques2ndEditionSteveNison/page/n182/mode/1up). Imagining candles as expressions of kinetic forces in markets enlivened a sense that there were subterranean dynamics coursing through stock prices. \n",
    "\n",
    "Selecting appropriate vessels for those forces was tricky. I began by considering individual stocks: Moderna (MRNA) and Pilgrim's Pride (PPC). Eventually, it made more sense to broaden those representative samples into \"baskets.\" After much futzing around, I eventually selected Moderna, Pfizer (PFE) and Roche (RHHBY) as the most likely stocks to channel H5N1 gains. Moderna and Pfizer's ability to capitalize on COVID anchored the category while Roche's contractual right to distribute the most popular avian flu antiviral, Tamiflu, made it an appealing choice. For the food basket, Tyson's (TSN) and Hormel (HRL) were nice additions to Pilgrim's Pride. These stocks' connections to livestock made them obvious candidates to reflect anxiety about a herd-born pandemic. "
   ]
  },
  {
   "cell_type": "markdown",
   "id": "4e83d088-8a3e-451b-83de-9788e5fd0954",
   "metadata": {},
   "source": [
    "### Contextual Data"
   ]
  },
  {
   "cell_type": "markdown",
   "id": "68058c05-6214-4566-abe2-548e3930cd10",
   "metadata": {},
   "source": [
    "In order to frame stock prices in the context of H5N1 bird flu, I had to source a fair amount of contextual data.\n",
    "\n",
    "Most important was government reporting, which formed the basis for any awareness that a potent pathogen was growing. \n",
    "\n",
    "Historically, the USDA and CDC have provided a bulk of that data that seeds journalistic and hence market dialogue about H5N1. That has changed since Trump's inauguration. There are existing data portals maintained by the [CDC](https://www.cdc.gov/bird-flu/situation-summary/index.html) and the [USDA](https://www.aphis.usda.gov/livestock-poultry-disease/avian/avian-influenza/hpai-detections/mammals). I ultimately opted to augment these official data streams with previous government data sourced from other journalists who had reported on it during the Biden administration. \n",
    "\n",
    "Next, I wanted to give shape to reporting on reporting (ie: journalism) and test whether or not stock prices reflected news about H5N1. I ran targeted google searches on four prominent financial news reporting outlets: Barron's, Market Watch, Yahoo Finance, and Bloomberg, with both \"H5N1\" and \"bird flu\" as keywords and relevance sorted by date. After perusing those options, it became obvious that accounting for the placement of those stories was significant. I denoted whether a story was organic (ie: assigned or pitched) or whether it had been written by another outlet as a means to advertise either that media company or another business entity that stood to benefit from the coverage.\n",
    "\n",
    "Adding another layer of contextual depth, I performed a similar search on the investing subreddit r/wallstreetbets."
   ]
  },
  {
   "cell_type": "markdown",
   "id": "7af20498-c641-40ab-87b8-752f9d22ae40",
   "metadata": {},
   "source": [
    "### Stock Data"
   ]
  },
  {
   "cell_type": "markdown",
   "id": "6a905891-c862-4c1a-8980-3ffe4acccc21",
   "metadata": {},
   "source": [
    "The TwelveData API for stock prices was invaluable in collecting and organizing relevant open, close, high, and low data for each basket of stocks. I ultimately selected price, On-Balance Volume, and Beta as technical indicators that best captured the relationship between individual stocks and the market at large. \n",
    "\n",
    "My biggest challenge was contextualizing the stocks as individual entitites that were nonetheless subject to and measurable by their relationship with a larger entity.\n",
    "\n",
    "Data in hand, I mapped each technical with plotly. Both OBV and Beta became suitable candidates for visualization work with DataWrapper, but I abandoned the idea of using a csv to seed individual candle charts. That functionality is done better and easier at Trading View. I utilized that for my annotations."
   ]
  },
  {
   "cell_type": "markdown",
   "id": "7e7d59b9-0523-4ec0-b799-714a1b9419a1",
   "metadata": {},
   "source": [
    "### Checks"
   ]
  },
  {
   "cell_type": "markdown",
   "id": "9f6d32e3-b048-48d1-af00-62288c00c392",
   "metadata": {},
   "source": [
    "I'm not a finance guy. I've picked up bits and pieces here and there. I had to simultaneously push myself to learn much more and limit the amount I learned/grappled with in order to produce a cogent story. At the end of the day, the sophistication of my technical methods leaves much to be desired. \n",
    "\n",
    "I ended up picking a crude but effective means of checking my assumptions against reality. I call it the \"paranomal method.\" \n",
    "\n",
    "Like those paranormal investigation shows where really intense people with a loose grasp on historical fact go to purportedly haunted locations and film increasing provocative interactions places, I had to look at every potential point of interest in my data and ask, \"could literally anything else explain this movement?\"\n",
    "\n",
    "I could have read H5N1 into anything, but the Occam's Razor reality wasn't some elaborate architecture of pricing, but the cause and effect of fundamental market news as a determinant of price. At the end of the day, every single major move in all six of my target stocks could be explained by a larger happening in the market or a discernible item of company-specific sorrow."
   ]
  },
  {
   "cell_type": "code",
   "execution_count": null,
   "id": "a0f02191-1562-44f3-a82c-28b1fbd84d1b",
   "metadata": {},
   "outputs": [],
   "source": []
  }
 ],
 "metadata": {
  "kernelspec": {
   "display_name": "Python 3 (ipykernel)",
   "language": "python",
   "name": "python3"
  },
  "language_info": {
   "codemirror_mode": {
    "name": "ipython",
    "version": 3
   },
   "file_extension": ".py",
   "mimetype": "text/x-python",
   "name": "python",
   "nbconvert_exporter": "python",
   "pygments_lexer": "ipython3",
   "version": "3.11.8"
  }
 },
 "nbformat": 4,
 "nbformat_minor": 5
}
